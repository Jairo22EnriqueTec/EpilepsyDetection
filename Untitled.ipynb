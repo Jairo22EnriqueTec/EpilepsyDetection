{
 "cells": [
  {
   "cell_type": "markdown",
   "id": "0f50c9e9",
   "metadata": {},
   "source": [
    "## Librerías"
   ]
  },
  {
   "cell_type": "code",
   "execution_count": 1,
   "id": "7e3a90da",
   "metadata": {
    "ExecuteTime": {
     "end_time": "2022-11-24T20:15:24.370767Z",
     "start_time": "2022-11-24T20:15:22.502173Z"
    }
   },
   "outputs": [],
   "source": [
    "import pandas as pd\n",
    "import numpy as np\n",
    "import progressbar\n",
    "\n",
    "import warnings\n",
    "warnings.filterwarnings(\"ignore\")\n",
    "from sklearn.model_selection import StratifiedKFold\n",
    "from sklearn.svm import SVC\n",
    "\n",
    "from icecream import ic\n",
    "ic.configureOutput(prefix='\\nDebug | -> ')\n",
    "#ic.disable()\n"
   ]
  },
  {
   "cell_type": "code",
   "execution_count": 2,
   "id": "f1ef62c2",
   "metadata": {
    "ExecuteTime": {
     "end_time": "2022-11-24T20:15:26.224230Z",
     "start_time": "2022-11-24T20:15:25.778299Z"
    }
   },
   "outputs": [
    {
     "ename": "NameError",
     "evalue": "name 'i' is not defined",
     "output_type": "error",
     "traceback": [
      "\u001b[1;31m---------------------------------------------------------------------------\u001b[0m",
      "\u001b[1;31mNameError\u001b[0m                                 Traceback (most recent call last)",
      "Input \u001b[1;32mIn [2]\u001b[0m, in \u001b[0;36m<cell line: 1>\u001b[1;34m()\u001b[0m\n\u001b[1;32m----> 1\u001b[0m pd\u001b[38;5;241m.\u001b[39mread_parquet(\u001b[38;5;124mf\u001b[39m\u001b[38;5;124m\"\u001b[39m\u001b[38;5;124m../Datos/features/Metadata/chb\u001b[39m\u001b[38;5;132;01m{\u001b[39;00mi\u001b[38;5;132;01m}\u001b[39;00m\u001b[38;5;124m_seizure_metadata_1.parquet\u001b[39m\u001b[38;5;124m\"\u001b[39m)\n",
      "\u001b[1;31mNameError\u001b[0m: name 'i' is not defined"
     ]
    }
   ],
   "source": [
    "pd.read_parquet(f\"../Datos/features/Metadata/chb{i}_seizure_metadata_1.parquet\")"
   ]
  },
  {
   "cell_type": "markdown",
   "id": "e96f9c14",
   "metadata": {},
   "source": [
    "## Cargando los datos para el entreno"
   ]
  },
  {
   "cell_type": "code",
   "execution_count": 3,
   "id": "35ae7aff",
   "metadata": {
    "ExecuteTime": {
     "end_time": "2022-11-24T20:15:32.544973Z",
     "start_time": "2022-11-24T20:15:26.636066Z"
    }
   },
   "outputs": [
    {
     "name": "stderr",
     "output_type": "stream",
     "text": [
      "  0% (0 of 20) |                         | Elapsed Time: 0:00:00 ETA:  --:--:--Debug | -> x_.shape[0]: 12992, y_.shape[0]: 12992\n",
      "  5% (1 of 20) |#                        | Elapsed Time: 0:00:00 ETA:   0:00:06Debug | -> x_.shape[0]: 47370, y_.shape[0]: 47370\n",
      " 10% (2 of 20) |##                       | Elapsed Time: 0:00:00 ETA:   0:00:05Debug | -> x_.shape[0]: 18591, y_.shape[0]: 18591\n",
      " 15% (3 of 20) |###                      | Elapsed Time: 0:00:00 ETA:   0:00:04Debug | -> x_.shape[0]: 15700, y_.shape[0]: 15700\n",
      " 20% (4 of 20) |#####                    | Elapsed Time: 0:00:00 ETA:   0:00:03Debug | -> x_.shape[0]: 19165, y_.shape[0]: 19165\n",
      " 25% (5 of 20) |######                   | Elapsed Time: 0:00:01 ETA:   0:00:03Debug | -> x_.shape[0]: 28315, y_.shape[0]: 28315\n",
      " 30% (6 of 20) |#######                  | Elapsed Time: 0:00:01 ETA:   0:00:03Debug | -> x_.shape[0]: 10959, y_.shape[0]: 10959\n",
      " 35% (7 of 20) |########                 | Elapsed Time: 0:00:01 ETA:   0:00:02Debug | -> x_.shape[0]: 23810, y_.shape[0]: 23810\n",
      " 40% (8 of 20) |##########               | Elapsed Time: 0:00:01 ETA:   0:00:02Debug | -> x_.shape[0]: 27583, y_.shape[0]: 27583\n",
      " 45% (9 of 20) |###########              | Elapsed Time: 0:00:02 ETA:   0:00:02Debug | -> x_.shape[0]: 25824, y_.shape[0]: 25824\n",
      " 50% (10 of 20) |############            | Elapsed Time: 0:00:02 ETA:   0:00:02Debug | -> x_.shape[0]: 62984, y_.shape[0]: 62984\n",
      " 55% (11 of 20) |#############           | Elapsed Time: 0:00:02 ETA:   0:00:02Debug | -> x_.shape[0]: 17926, y_.shape[0]: 17926\n",
      " 60% (12 of 20) |##############          | Elapsed Time: 0:00:03 ETA:   0:00:02Debug | -> x_.shape[0]: 12665, y_.shape[0]: 12665\n",
      " 65% (13 of 20) |###############         | Elapsed Time: 0:00:03 ETA:   0:00:01Debug | -> x_.shape[0]: 22073, y_.shape[0]: 22073\n",
      " 70% (14 of 20) |################        | Elapsed Time: 0:00:03 ETA:   0:00:01Debug | -> x_.shape[0]: 11988, y_.shape[0]: 11988\n",
      " 75% (15 of 20) |##################      | Elapsed Time: 0:00:03 ETA:   0:00:01Debug | -> x_.shape[0]: 21536, y_.shape[0]: 21536\n",
      " 80% (16 of 20) |###################     | Elapsed Time: 0:00:04 ETA:   0:00:01Debug | -> x_.shape[0]: 14903, y_.shape[0]: 14903\n",
      " 85% (17 of 20) |####################    | Elapsed Time: 0:00:04 ETA:   0:00:00Debug | -> x_.shape[0]: 12018, y_.shape[0]: 12018\n",
      " 90% (18 of 20) |#####################   | Elapsed Time: 0:00:04 ETA:   0:00:00Debug | -> x_.shape[0]: 34736, y_.shape[0]: 34736\n",
      " 95% (19 of 20) |######################  | Elapsed Time: 0:00:05 ETA:   0:00:00Debug | -> x_.shape[0]: 45701, y_.shape[0]: 45701\n",
      "100% (20 of 20) |########################| Elapsed Time: 0:00:05 Time:  0:00:05\n"
     ]
    }
   ],
   "source": [
    "X = np.load(f\"../Datos/features/chb04_classicfeatures_seizure_EEGwindow_1.npz\")['EEG_Feat']\n",
    "y = pd.read_parquet(f\"../Datos/features/Metadata/chb04_seizure_metadata_1.parquet\")['class']\n",
    "\n",
    "for i in progressbar.progressbar(range(5, 25)):\n",
    "    i = str(i)\n",
    "    i = '0'+i if len(i) == 1 else i\n",
    "    y_ = pd.read_parquet(f\"../Datos/features/Metadata/chb{i}_seizure_metadata_1.parquet\")['class']\n",
    "    y = np.append(y, y_, axis = 0)\n",
    "    \n",
    "    x_ = np.load(f\"../Datos/features/chb{i}_classicfeatures_seizure_EEGwindow_1.npz\")['EEG_Feat']\n",
    "    X = np.append(X, x_, axis = 0)\n",
    "    \n",
    "    \n",
    "    ic(x_.shape[0], y_.shape[0])"
   ]
  },
  {
   "cell_type": "code",
   "execution_count": 4,
   "id": "a55122e8",
   "metadata": {
    "ExecuteTime": {
     "end_time": "2022-11-24T20:15:36.078496Z",
     "start_time": "2022-11-24T20:15:36.020493Z"
    }
   },
   "outputs": [
    {
     "name": "stderr",
     "output_type": "stream",
     "text": [
      "Debug | -> X.shape: (508699, 21, 9), y.shape: (508699,)\n"
     ]
    },
    {
     "data": {
      "text/plain": [
       "((508699, 21, 9), (508699,))"
      ]
     },
     "execution_count": 4,
     "metadata": {},
     "output_type": "execute_result"
    }
   ],
   "source": [
    "ic(X.shape, y.shape)"
   ]
  },
  {
   "cell_type": "markdown",
   "id": "a659dccd",
   "metadata": {},
   "source": [
    "## Prueba con un StratifiedkFold"
   ]
  },
  {
   "cell_type": "code",
   "execution_count": null,
   "id": "bfca6e93",
   "metadata": {
    "ExecuteTime": {
     "start_time": "2022-11-24T20:32:04.119Z"
    }
   },
   "outputs": [
    {
     "name": "stderr",
     "output_type": "stream",
     "text": [
      "C:\\Users\\Jairo Enrique\\.conda\\envs\\DataScience\\lib\\site-packages\\sklearn\\model_selection\\_split.py:293: FutureWarning: Setting a random_state has no effect since shuffle is False. This will raise an error in 0.24. You should leave random_state to its default (None), or set shuffle=True.\n",
      "  warnings.warn(\n"
     ]
    }
   ],
   "source": [
    "metrics = [f1_score, accuracy_score, roc_auc_score]\n",
    "metrics_name = ['f1', 'acc', 'roc']\n",
    "models_name = ['LR', 'SVM']\n",
    "records = {mn:[] for mn in models_name}\n",
    "\n",
    "skf = StratifiedKFold(n_splits = 2, random_state = 616, shuffle = False)\n",
    "\n",
    "\n",
    "for train_index, test_index in skf.split(X, y):\n",
    "    X_train, X_test = X[train_index], X[test_index]\n",
    "    y_train, y_test = y[train_index], y[test_index]\n",
    "    \n",
    "    X_train = X_train.reshape((X_train.shape[0], X_train.shape[1] * X_train.shape[2]))\n",
    "    X_test = X_test.reshape((X_test.shape[0], X_test.shape[1] * X_test.shape[2]))\n",
    "    \n",
    "    #svm = SVC(class_weight = 'balanced', C = 0.01, kernel = 'rbf')\n",
    "    clf = LogisticRegression(random_state = 616, solver='liblinear')\n",
    "    \n",
    "    clf.fit(X_train, y_train)\n",
    "    \n",
    "    records['LR'].append([m(clf.predict(X_test), y_test) for m in metrics])\n",
    "    \n",
    "    \n",
    "    "
   ]
  },
  {
   "cell_type": "code",
   "execution_count": 38,
   "id": "29a47249",
   "metadata": {
    "ExecuteTime": {
     "end_time": "2022-11-24T20:28:09.647845Z",
     "start_time": "2022-11-24T20:28:09.560059Z"
    }
   },
   "outputs": [
    {
     "data": {
      "text/plain": [
       "[0.5886424414031776, 0.8971889129152743, 0.8412671825333428]"
      ]
     },
     "execution_count": 38,
     "metadata": {},
     "output_type": "execute_result"
    }
   ],
   "source": [
    "#X_test = X_test.reshape((X_test.shape[0], X_test.shape[1] * X_test.shape[2]))\n",
    "\n",
    "\n",
    "[m(clf.predict(X_test), y_test) for m in metrics]"
   ]
  },
  {
   "cell_type": "code",
   "execution_count": 16,
   "id": "4a9b8626",
   "metadata": {
    "ExecuteTime": {
     "end_time": "2022-11-24T20:18:34.515876Z",
     "start_time": "2022-11-24T20:18:34.478265Z"
    }
   },
   "outputs": [
    {
     "name": "stderr",
     "output_type": "stream",
     "text": [
      "Debug | -> y.shape: (508699,)\n"
     ]
    },
    {
     "data": {
      "text/plain": [
       "(508699,)"
      ]
     },
     "execution_count": 16,
     "metadata": {},
     "output_type": "execute_result"
    }
   ],
   "source": [
    "ic(y.shape)"
   ]
  },
  {
   "cell_type": "code",
   "execution_count": 35,
   "id": "b5d36407",
   "metadata": {
    "ExecuteTime": {
     "end_time": "2022-11-24T20:27:11.520223Z",
     "start_time": "2022-11-24T20:27:11.512569Z"
    }
   },
   "outputs": [],
   "source": [
    "from sklearn.linear_model import LogisticRegression\n",
    "from sklearn.metrics import f1_score, accuracy_score, roc_auc_score"
   ]
  },
  {
   "cell_type": "code",
   "execution_count": 26,
   "id": "4d2c5212",
   "metadata": {
    "ExecuteTime": {
     "end_time": "2022-11-24T20:20:31.720478Z",
     "start_time": "2022-11-24T20:20:31.616428Z"
    }
   },
   "outputs": [
    {
     "name": "stderr",
     "output_type": "stream",
     "text": [
      "C:\\Users\\Jairo Enrique\\.conda\\envs\\DataScience\\lib\\site-packages\\sklearn\\model_selection\\_split.py:293: FutureWarning: Setting a random_state has no effect since shuffle is False. This will raise an error in 0.24. You should leave random_state to its default (None), or set shuffle=True.\n",
      "  warnings.warn(\n",
      "Debug | -> train_index.shape: (254349,)\n",
      "Debug | -> train_index.shape: (254350,)\n"
     ]
    }
   ],
   "source": [
    "skf = StratifiedKFold(n_splits = 2, random_state = 616, shuffle = False)\n",
    "\n",
    "for train_index, test_index in skf.split(X, y):\n",
    "    ic(train_index.shape)\n"
   ]
  }
 ],
 "metadata": {
  "hide_input": false,
  "kernelspec": {
   "display_name": "Python 3 (ipykernel)",
   "language": "python",
   "name": "python3"
  },
  "language_info": {
   "codemirror_mode": {
    "name": "ipython",
    "version": 3
   },
   "file_extension": ".py",
   "mimetype": "text/x-python",
   "name": "python",
   "nbconvert_exporter": "python",
   "pygments_lexer": "ipython3",
   "version": "3.8.5"
  },
  "varInspector": {
   "cols": {
    "lenName": 16,
    "lenType": 16,
    "lenVar": 40
   },
   "kernels_config": {
    "python": {
     "delete_cmd_postfix": "",
     "delete_cmd_prefix": "del ",
     "library": "var_list.py",
     "varRefreshCmd": "print(var_dic_list())"
    },
    "r": {
     "delete_cmd_postfix": ") ",
     "delete_cmd_prefix": "rm(",
     "library": "var_list.r",
     "varRefreshCmd": "cat(var_dic_list()) "
    }
   },
   "types_to_exclude": [
    "module",
    "function",
    "builtin_function_or_method",
    "instance",
    "_Feature"
   ],
   "window_display": false
  }
 },
 "nbformat": 4,
 "nbformat_minor": 5
}
